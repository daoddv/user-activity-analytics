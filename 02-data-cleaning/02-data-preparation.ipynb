{
  "nbformat": 4,
  "nbformat_minor": 0,
  "metadata": {
    "colab": {
      "name": "Untitled0.ipynb",
      "provenance": []
    },
    "kernelspec": {
      "name": "python3",
      "display_name": "Python 3"
    },
    "language_info": {
      "name": "python"
    }
  },
  "cells": [
    {
      "cell_type": "markdown",
      "metadata": {
        "id": "63MiGExa1WHr"
      },
      "source": [
        "# Data Preparation\n",
        "[![Open In Colab](https://colab.research.google.com/assets/colab-badge.svg)](https://colab.research.google.com/drive/11-7tK27HdchlFw8lEj7NaJBu-IJ4NnwJ)  "
      ]
    },
    {
      "cell_type": "markdown",
      "metadata": {
        "id": "ynPyR4ncg2tj"
      },
      "source": [
        "## Load the library"
      ]
    },
    {
      "cell_type": "code",
      "metadata": {
        "id": "gYj2nVnpg2tj"
      },
      "source": [
        "# import libraries\n",
        "import pandas as pd\n",
        "import numpy as np\n",
        "import datetime\n",
        "from datetime import date\n"
      ],
      "execution_count": null,
      "outputs": []
    },
    {
      "cell_type": "markdown",
      "metadata": {
        "id": "1NpDKWwcg2tj"
      },
      "source": [
        "## Import datasets"
      ]
    },
    {
      "cell_type": "code",
      "metadata": {
        "id": "l4XdipuXg2tj"
      },
      "source": [
        "# User group lists\n",
        "df_gr1 = pd.read_csv(\"antenatal_list_202104252159.csv\")\n",
        "df_gr1.insert(0, 'user_group', 'antenatal')\n",
        "\n",
        "df_gr2 = pd.read_csv(\"clinician_list_202104252159.csv\")\n",
        "df_gr2.insert(0, 'user_group', 'clinician')\n",
        "\n",
        "# User activities\n",
        "df1 = pd.read_csv(\"_csv_azure_article_access__202104252159.csv\", usecols = ['email','date', 'time'])\n",
        "df1.insert(0, 'user_activity', 'article_access')\n",
        "\n",
        "df2 = pd.read_csv(\"_csv_azure_back_button_pressed__202104252159.csv\", usecols = ['email','date', 'time'])\n",
        "df2.insert(0, 'user_activity', 'back_button_pressed')\n",
        "\n",
        "df3 = pd.read_csv(\"_csv_azure_comment_liked__202104252159.csv\", usecols = ['email','date', 'time'])\n",
        "df3.insert(0, 'user_activity', 'comment_liked')\n",
        "\n",
        "df4 = pd.read_csv(\"_csv_azure_external_url__202104252159.csv\", usecols = ['email','date', 'time'])\n",
        "df4.insert(0, 'user_activity', 'external_url')\n",
        "\n",
        "df5 = pd.read_csv(\"_csv_azure_forum_access__202104252159.csv\", usecols = ['email','date', 'time'])\n",
        "df5.insert(0, 'user_activity', 'forum_access')\n",
        "\n",
        "df6 = pd.read_csv(\"_csv_azure_new_post__202104252159.csv\", usecols = ['email','date', 'time'])\n",
        "df6.insert(0, 'user_activity', 'new_post')\n",
        "\n",
        "df7 = pd.read_csv(\"_csv_azure_pn_access__202104252159.csv\", usecols = ['email','date', 'time'])\n",
        "df7.insert(0, 'user_activity', 'pn_access')\n",
        "\n",
        "df8 = pd.read_csv(\"_csv_azure_post_deleted__202104252159.csv\", usecols = ['email','date', 'time'])\n",
        "df8.insert(0, 'user_activity', 'post_deleted')\n",
        "\n",
        "df9 = pd.read_csv(\"_csv_azure_post_liked__202104252159.csv\", usecols = ['email','date', 'time'])\n",
        "df9.insert(0, 'user_activity', 'post_liked')\n",
        "\n",
        "df10 = pd.read_csv(\"_csv_azure_post_reported__202104252159.csv\", usecols = ['email','date', 'time'])\n",
        "df10.insert(0, 'user_activity', 'post_reported')\n",
        "\n",
        "df11 = pd.read_csv(\"_csv_azure_tool_access__202104252159.csv\", usecols = ['email','date', 'time'])\n",
        "df11.insert(0, 'user_activity', 'tool_access')\n",
        "\n",
        "df12 = pd.read_csv(\"_csv_azure_topic_access__202104252159.csv\", usecols = ['email','date', 'time'])\n",
        "df12.insert(0, 'user_activity', 'topic_access')\n",
        "\n",
        "df13 = pd.read_csv(\"_csv_azure_video_watched__202104252159.csv\", usecols = ['email','date', 'time'])\n",
        "df13.insert(0, 'user_activity', 'video_watched')\n",
        "\n",
        "df14 = pd.read_csv(\"csv_azure_background_202104252159.csv\", usecols = ['email','date', 'time'])\n",
        "df14.insert(0, 'user_activity', 'background')\n",
        "\n",
        "df15 = pd.read_csv(\"csv_azure_foreground_202104252159.csv\", usecols = ['email','date', 'time'])\n",
        "df15.insert(0, 'user_activity', 'foreground')\n",
        "\n",
        "df16 = pd.read_csv(\"csv_azure_login_202104252159.csv\", usecols = ['email','date', 'time'])\n",
        "df16.insert(0, 'user_activity', 'login')\n",
        "\n",
        "df17 = pd.read_csv(\"csv_azure_terminate_202104252159.csv\", usecols = ['email','date', 'time'])\n",
        "df17.insert(0, 'user_activity', 'terminate')\n",
        "\n",
        "df18 = pd.read_csv(\"csv_azure_foreground_202104252159.csv\", usecols = ['email','date', 'time'])\n",
        "df18.insert(0, 'user_activity', 'foreground')\n"
      ],
      "execution_count": null,
      "outputs": []
    },
    {
      "cell_type": "markdown",
      "metadata": {
        "id": "wEbglmyag2tk"
      },
      "source": [
        "## User group combination"
      ]
    },
    {
      "cell_type": "code",
      "metadata": {
        "id": "JM7fXZW9g2tk"
      },
      "source": [
        "# User group combination\n",
        "df_gr = df_gr1.append([df_gr2], ignore_index=True)\n",
        "df_gr"
      ],
      "execution_count": null,
      "outputs": []
    },
    {
      "cell_type": "markdown",
      "metadata": {
        "id": "NnHI_5Gqg2tk"
      },
      "source": [
        "## User activity combination"
      ]
    },
    {
      "cell_type": "code",
      "metadata": {
        "colab": {
          "base_uri": "https://localhost:8080/"
        },
        "id": "3xQP-T44g2tk",
        "outputId": "f983ed0e-9f63-49b9-d696-ab529340f1e0"
      },
      "source": [
        "df_act = df1.append([df2,df3,df4,df5,df6,df7,df8,df9,df10,df11,df12,df13,df14,df15,df16,df17,df18], ignore_index=True)\n",
        "print(df_act.shape)"
      ],
      "execution_count": null,
      "outputs": [
        {
          "output_type": "stream",
          "text": [
            "(60209, 4)\n"
          ],
          "name": "stdout"
        }
      ]
    },
    {
      "cell_type": "code",
      "metadata": {
        "colab": {
          "base_uri": "https://localhost:8080/",
          "height": 16
        },
        "id": "YchpcV11g2tl",
        "outputId": "940a54df-81d3-40a7-a45d-2ca987fc9133"
      },
      "source": [
        "from google.colab import files\n",
        "df_act.to_csv('user_activity_draft.csv') \n",
        "files.download('user_activity_draft.csv')\n",
        "df_gr.to_csv('user_grouplist.csv') \n",
        "files.download('user_grouplist.csv')"
      ],
      "execution_count": null,
      "outputs": [
        {
          "output_type": "display_data",
          "data": {
            "application/javascript": [
              "\n",
              "    async function download(id, filename, size) {\n",
              "      if (!google.colab.kernel.accessAllowed) {\n",
              "        return;\n",
              "      }\n",
              "      const div = document.createElement('div');\n",
              "      const label = document.createElement('label');\n",
              "      label.textContent = `Downloading \"${filename}\": `;\n",
              "      div.appendChild(label);\n",
              "      const progress = document.createElement('progress');\n",
              "      progress.max = size;\n",
              "      div.appendChild(progress);\n",
              "      document.body.appendChild(div);\n",
              "\n",
              "      const buffers = [];\n",
              "      let downloaded = 0;\n",
              "\n",
              "      const channel = await google.colab.kernel.comms.open(id);\n",
              "      // Send a message to notify the kernel that we're ready.\n",
              "      channel.send({})\n",
              "\n",
              "      for await (const message of channel.messages) {\n",
              "        // Send a message to notify the kernel that we're ready.\n",
              "        channel.send({})\n",
              "        if (message.buffers) {\n",
              "          for (const buffer of message.buffers) {\n",
              "            buffers.push(buffer);\n",
              "            downloaded += buffer.byteLength;\n",
              "            progress.value = downloaded;\n",
              "          }\n",
              "        }\n",
              "      }\n",
              "      const blob = new Blob(buffers, {type: 'application/binary'});\n",
              "      const a = document.createElement('a');\n",
              "      a.href = window.URL.createObjectURL(blob);\n",
              "      a.download = filename;\n",
              "      div.appendChild(a);\n",
              "      a.click();\n",
              "      div.remove();\n",
              "    }\n",
              "  "
            ],
            "text/plain": [
              "<IPython.core.display.Javascript object>"
            ]
          },
          "metadata": {
            "tags": []
          }
        },
        {
          "output_type": "display_data",
          "data": {
            "application/javascript": [
              "download(\"download_d7112679-23e3-4c82-8619-60fe3f0ed50e\", \"user_activity_draft.csv\", 3321801)"
            ],
            "text/plain": [
              "<IPython.core.display.Javascript object>"
            ]
          },
          "metadata": {
            "tags": []
          }
        }
      ]
    }
  ]
}