{
 "cells": [
  {
   "cell_type": "code",
   "execution_count": 12,
   "metadata": {},
   "outputs": [
    {
     "name": "stdout",
     "output_type": "stream",
     "text": [
      "\u001b[31mERROR: Could not find a version that satisfies the requirement unixodbc (from versions: none)\u001b[0m\r\n",
      "\u001b[31mERROR: No matching distribution found for unixodbc\u001b[0m\r\n"
     ]
    }
   ],
   "source": [
    "# !pip install pyodbc\n",
    "!pip install unixodbc"
   ]
  },
  {
   "cell_type": "code",
   "execution_count": 4,
   "metadata": {},
   "outputs": [],
   "source": [
    "import pyodbc \n",
    "import pandas as pd\n",
    "import csv\n",
    "import time"
   ]
  },
  {
   "cell_type": "code",
   "execution_count": 21,
   "metadata": {},
   "outputs": [],
   "source": [
    "all_options = {'America': ['New York City', 'San Francisco', 'Cincinnati'],\n",
    "               'Canada': [u'Montréal', 'Toronto', 'Ottawa']}"
   ]
  },
  {
   "cell_type": "code",
   "execution_count": 22,
   "metadata": {},
   "outputs": [
    {
     "ename": "AttributeError",
     "evalue": "'dict' object has no attribute 'dtypes'",
     "output_type": "error",
     "traceback": [
      "\u001b[0;31m---------------------------------------------------------------------------\u001b[0m",
      "\u001b[0;31mAttributeError\u001b[0m                            Traceback (most recent call last)",
      "\u001b[0;32m<ipython-input-22-57a281ead476>\u001b[0m in \u001b[0;36m<module>\u001b[0;34m\u001b[0m\n\u001b[0;32m----> 1\u001b[0;31m \u001b[0mall_options\u001b[0m\u001b[0;34m.\u001b[0m\u001b[0mdtypes\u001b[0m\u001b[0;34m\u001b[0m\u001b[0;34m\u001b[0m\u001b[0m\n\u001b[0m",
      "\u001b[0;31mAttributeError\u001b[0m: 'dict' object has no attribute 'dtypes'"
     ]
    }
   ],
   "source": [
    "all_options.dtypes"
   ]
  },
  {
   "cell_type": "code",
   "execution_count": 14,
   "metadata": {},
   "outputs": [
    {
     "ename": "Error",
     "evalue": "('01000', \"[01000] [unixODBC][Driver Manager]Can't open lib 'ODBC Driver 17 for SQL Server' : file not found (0) (SQLDriverConnect)\")",
     "output_type": "error",
     "traceback": [
      "\u001b[0;31m---------------------------------------------------------------------------\u001b[0m",
      "\u001b[0;31mError\u001b[0m                                     Traceback (most recent call last)",
      "\u001b[0;32m<ipython-input-14-f3e82000a727>\u001b[0m in \u001b[0;36m<module>\u001b[0;34m\u001b[0m\n\u001b[1;32m     12\u001b[0m \u001b[0musername\u001b[0m \u001b[0;34m=\u001b[0m \u001b[0;34m'analytics'\u001b[0m\u001b[0;34m\u001b[0m\u001b[0;34m\u001b[0m\u001b[0m\n\u001b[1;32m     13\u001b[0m \u001b[0mpassword\u001b[0m \u001b[0;34m=\u001b[0m \u001b[0;34m'internship_2021'\u001b[0m\u001b[0;34m\u001b[0m\u001b[0;34m\u001b[0m\u001b[0m\n\u001b[0;32m---> 14\u001b[0;31m \u001b[0mcnxn\u001b[0m \u001b[0;34m=\u001b[0m \u001b[0mpyodbc\u001b[0m\u001b[0;34m.\u001b[0m\u001b[0mconnect\u001b[0m\u001b[0;34m(\u001b[0m\u001b[0;34m'DRIVER={ODBC Driver 17 for SQL Server};SERVER='\u001b[0m\u001b[0;34m+\u001b[0m\u001b[0mserver\u001b[0m\u001b[0;34m+\u001b[0m\u001b[0;34m';DATABASE='\u001b[0m\u001b[0;34m+\u001b[0m\u001b[0mdatabase\u001b[0m\u001b[0;34m+\u001b[0m\u001b[0;34m';UID='\u001b[0m\u001b[0;34m+\u001b[0m\u001b[0musername\u001b[0m\u001b[0;34m+\u001b[0m\u001b[0;34m';PWD='\u001b[0m\u001b[0;34m+\u001b[0m \u001b[0mpassword\u001b[0m\u001b[0;34m)\u001b[0m\u001b[0;34m\u001b[0m\u001b[0;34m\u001b[0m\u001b[0m\n\u001b[0m\u001b[1;32m     15\u001b[0m \u001b[0mcursor\u001b[0m \u001b[0;34m=\u001b[0m \u001b[0mcnxn\u001b[0m\u001b[0;34m.\u001b[0m\u001b[0mcursor\u001b[0m\u001b[0;34m(\u001b[0m\u001b[0;34m)\u001b[0m\u001b[0;34m\u001b[0m\u001b[0;34m\u001b[0m\u001b[0m\n\u001b[1;32m     16\u001b[0m \u001b[0;34m\u001b[0m\u001b[0m\n",
      "\u001b[0;31mError\u001b[0m: ('01000', \"[01000] [unixODBC][Driver Manager]Can't open lib 'ODBC Driver 17 for SQL Server' : file not found (0) (SQLDriverConnect)\")"
     ]
    }
   ],
   "source": [
    "#how much CPU time? time to execute every table? stopwatch time? capture error?\n",
    "#connect with server\n",
    "import pyodbc \n",
    "import pandas as pd\n",
    "import csv\n",
    "import time\n",
    "# Some other example server values are\n",
    "# server = 'localhost\\sqlexpress' # for a named instance\n",
    "# server = 'myserver,port' # to specify an alternate port\n",
    "server = 'assc-kl-gh.database.windows.net' \n",
    "database = 'ltu-assc-gh-db' \n",
    "username = 'analytics' \n",
    "password = 'internship_2021' \n",
    "cnxn = pyodbc.connect('DRIVER={ODBC Driver 17 for SQL Server};SERVER='+server+';DATABASE='+database+';UID='+username+';PWD='+ password)\n",
    "cursor = cnxn.cursor()\n",
    "\n",
    "#start overall time clock \n",
    "#first we will check overall time taken to run all the sequence, then we will use individual processes like Login etc\n",
    "start = time.time()\n",
    "\n",
    "\n",
    "#function created to recall the table(s)\n",
    "#create an additional column called table and add all the table names in the row for each entry\n",
    "def cloud(table):\n",
    "    sql = pd.read_sql_query('SELECT * FROM \"' + table + '\"',cnxn)\n",
    "    sql[['table_name']] = str(table)\n",
    "    return sql\n",
    "\n",
    "\n",
    "#list all the table names\n",
    "table_list = [\"csv_azure_terminate\",\"csv_azure_background\",\"csv_azure_article-access\", \"csv_azure_app-removed\",\"csv_azure_back-button-pressed\",\"clinician_list\",\"antenatal_list\",\"csv_azure_tool-access\",\"csv_azure_topic-access\",\"csv_azure_external-url\",\"csv_azure_foreground\",\"csv_azure_login\",\"csv_azure_forum-access\",\"csv_azure_new-post\",\"csv_azure_pn-access\",\"csv_azure_post-deleted\", \"csv_azure_post-liked\",\"csv_azure_post-reported\",\"csv_azure_terminate\",\"csv_azure_tool-access\",\"csv_azure_topic-access\",\"csv_azure_video-watched\"]\n",
    "\n",
    "#time taken to execute? By the system\n",
    "\n",
    "list_of_dataframes = []\n",
    "for df_azure1 in table_list:\n",
    "    list_of_dataframes.append(cloud(df_azure1))\n",
    "    \n",
    "merged_df_azure1 = pd.concat(list_of_dataframes)\n",
    "\n",
    "print(merged_df_azure1)\n",
    "\n",
    "header = [\"email\",\"date\",\"time\",\"device_type\",\"table_name\"]\n",
    "merged_df_azure1.to_csv(r'/Users/macbook/OneDrive/LTU19/21BUS5PR2/merged_df_azure_new.csv', columns = header)\n",
    "\n",
    "end = time.time()\n",
    "print(end - start)"
   ]
  },
  {
   "cell_type": "code",
   "execution_count": null,
   "metadata": {},
   "outputs": [],
   "source": []
  }
 ],
 "metadata": {
  "kernelspec": {
   "display_name": "Python 3",
   "language": "python",
   "name": "python3"
  },
  "language_info": {
   "codemirror_mode": {
    "name": "ipython",
    "version": 3
   },
   "file_extension": ".py",
   "mimetype": "text/x-python",
   "name": "python",
   "nbconvert_exporter": "python",
   "pygments_lexer": "ipython3",
   "version": "3.8.5"
  }
 },
 "nbformat": 4,
 "nbformat_minor": 4
}
